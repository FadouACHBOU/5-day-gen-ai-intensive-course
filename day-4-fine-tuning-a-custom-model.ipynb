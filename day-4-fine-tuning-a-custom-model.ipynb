{
 "cells": [
  {
   "cell_type": "markdown",
   "id": "e519505f",
   "metadata": {
    "id": "b6e13eef3f5d",
    "papermill": {
     "duration": 0.012232,
     "end_time": "2024-11-19T09:26:27.252668",
     "exception": false,
     "start_time": "2024-11-19T09:26:27.240436",
     "status": "completed"
    },
    "tags": []
   },
   "source": [
    "##### Copyright 2024 Google LLC."
   ]
  },
  {
   "cell_type": "code",
   "execution_count": 1,
   "id": "f5eaf8b1",
   "metadata": {
    "cellView": "form",
    "execution": {
     "iopub.execute_input": "2024-11-19T09:26:27.271092Z",
     "iopub.status.busy": "2024-11-19T09:26:27.270620Z",
     "iopub.status.idle": "2024-11-19T09:26:27.276488Z",
     "shell.execute_reply": "2024-11-19T09:26:27.275382Z"
    },
    "id": "d6597b11df14",
    "jupyter": {
     "source_hidden": true
    },
    "papermill": {
     "duration": 0.017795,
     "end_time": "2024-11-19T09:26:27.278819",
     "exception": false,
     "start_time": "2024-11-19T09:26:27.261024",
     "status": "completed"
    },
    "tags": []
   },
   "outputs": [],
   "source": [
    "# @title Licensed under the Apache License, Version 2.0 (the \"License\");\n",
    "# you may not use this file except in compliance with the License.\n",
    "# You may obtain a copy of the License at\n",
    "#\n",
    "# https://www.apache.org/licenses/LICENSE-2.0\n",
    "#\n",
    "# Unless required by applicable law or agreed to in writing, software\n",
    "# distributed under the License is distributed on an \"AS IS\" BASIS,\n",
    "# WITHOUT WARRANTIES OR CONDITIONS OF ANY KIND, either express or implied.\n",
    "# See the License for the specific language governing permissions and\n",
    "# limitations under the License."
   ]
  },
  {
   "cell_type": "markdown",
   "id": "9a841d21",
   "metadata": {
    "id": "4KDIFPAL2EnL",
    "papermill": {
     "duration": 0.007974,
     "end_time": "2024-11-19T09:26:27.296334",
     "exception": false,
     "start_time": "2024-11-19T09:26:27.288360",
     "status": "completed"
    },
    "tags": []
   },
   "source": [
    "# Day 4 - Fine tuning a custom model\n",
    "\n",
    "Welcome back to the Kaggle 5-day Generative AI course!\n",
    "\n",
    "In this notebook you will use the Gemini API to fine-tune a custom, task-specific model. Fine-tuning can be used for a variety of tasks from classic NLP problems like entity extraction or summarisation, to creative tasks like stylised generation. You will fine-tune a model to classify the category a piece of text (a newsgroup post) into the category it belongs to (the newsgroup name).\n",
    "\n",
    "This codelab walks you tuning a model with the API. [AI Studio](https://aistudio.google.com/app/tune) also supports creating new tuned models directly in the web UI, allowing you to quickly create and monitor models using data from Google Sheets, Drive or your own files."
   ]
  },
  {
   "cell_type": "code",
   "execution_count": 2,
   "id": "71c66864",
   "metadata": {
    "execution": {
     "iopub.execute_input": "2024-11-19T09:26:27.314619Z",
     "iopub.status.busy": "2024-11-19T09:26:27.314235Z",
     "iopub.status.idle": "2024-11-19T09:26:53.584060Z",
     "shell.execute_reply": "2024-11-19T09:26:53.582356Z"
    },
    "id": "9wafTyEH1_xF",
    "papermill": {
     "duration": 26.281841,
     "end_time": "2024-11-19T09:26:53.586355",
     "exception": false,
     "start_time": "2024-11-19T09:26:27.304514",
     "status": "completed"
    },
    "tags": []
   },
   "outputs": [
    {
     "name": "stdout",
     "output_type": "stream",
     "text": [
      "Note: you may need to restart the kernel to use updated packages.\n"
     ]
    }
   ],
   "source": [
    "%pip install -U -q 'google-generativeai>=0.8.3'"
   ]
  },
  {
   "cell_type": "markdown",
   "id": "a853b6ee",
   "metadata": {
    "papermill": {
     "duration": 0.008206,
     "end_time": "2024-11-19T09:26:53.603124",
     "exception": false,
     "start_time": "2024-11-19T09:26:53.594918",
     "status": "completed"
    },
    "tags": []
   },
   "source": [
    "Note that you do not have to restart the kernel."
   ]
  },
  {
   "cell_type": "code",
   "execution_count": 3,
   "id": "c5eb21a6",
   "metadata": {
    "execution": {
     "iopub.execute_input": "2024-11-19T09:26:53.622367Z",
     "iopub.status.busy": "2024-11-19T09:26:53.621251Z",
     "iopub.status.idle": "2024-11-19T09:26:54.665877Z",
     "shell.execute_reply": "2024-11-19T09:26:54.664881Z"
    },
    "id": "T0CBG9xL2PvT",
    "papermill": {
     "duration": 1.057143,
     "end_time": "2024-11-19T09:26:54.668435",
     "exception": false,
     "start_time": "2024-11-19T09:26:53.611292",
     "status": "completed"
    },
    "tags": []
   },
   "outputs": [],
   "source": [
    "import google.generativeai as genai"
   ]
  },
  {
   "cell_type": "markdown",
   "id": "17cd9ef4",
   "metadata": {
    "id": "P4bYX2T72ScK",
    "papermill": {
     "duration": 0.007772,
     "end_time": "2024-11-19T09:26:54.684398",
     "exception": false,
     "start_time": "2024-11-19T09:26:54.676626",
     "status": "completed"
    },
    "tags": []
   },
   "source": [
    "### Set up your API key\n",
    "\n",
    "To run the following cell, your API key must be stored it in a [Kaggle secret](https://www.kaggle.com/discussions/product-feedback/114053) named `GOOGLE_API_KEY`.\n",
    "\n",
    "If you don't already have an API key, you can grab one from [AI Studio](https://aistudio.google.com/app/apikey). You can find [detailed instructions in the docs](https://ai.google.dev/gemini-api/docs/api-key).\n",
    "\n",
    "To make the key available through Kaggle secrets, choose `Secrets` from the `Add-ons` menu and follow the instructions to add your key or enable it for this notebook."
   ]
  },
  {
   "cell_type": "code",
   "execution_count": 4,
   "id": "bb2d0a07",
   "metadata": {
    "execution": {
     "iopub.execute_input": "2024-11-19T09:26:54.702402Z",
     "iopub.status.busy": "2024-11-19T09:26:54.701576Z",
     "iopub.status.idle": "2024-11-19T09:26:54.896310Z",
     "shell.execute_reply": "2024-11-19T09:26:54.895278Z"
    },
    "id": "VuJPY3GK2SLZ",
    "papermill": {
     "duration": 0.206393,
     "end_time": "2024-11-19T09:26:54.898668",
     "exception": false,
     "start_time": "2024-11-19T09:26:54.692275",
     "status": "completed"
    },
    "tags": []
   },
   "outputs": [],
   "source": [
    "from kaggle_secrets import UserSecretsClient\n",
    "\n",
    "GOOGLE_API_KEY = UserSecretsClient().get_secret(\"GOOGLE_API_KEY\")\n",
    "genai.configure(api_key=GOOGLE_API_KEY)"
   ]
  },
  {
   "attachments": {
    "53e1d527-de81-497e-bfac-58df458e750b.png": {
     "image/png": "[encoded data removed]"
    }
   },
   "cell_type": "markdown",
   "id": "ca45f0a3",
   "metadata": {
    "id": "25b2127c2052",
    "papermill": {
     "duration": 0.007946,
     "end_time": "2024-11-19T09:26:54.915097",
     "exception": false,
     "start_time": "2024-11-19T09:26:54.907151",
     "status": "completed"
    },
    "tags": []
   },
   "source": [
    "If you received an error response along the lines of `No user secrets exist for kernel id ...`, then you need to add your API key via `Add-ons`, `Secrets` **and** enable it.\n",
    "\n",
    "![Screenshot of the checkbox to enable GOOGLE_API_KEY secret](https://storage.googleapis.com/kaggle-media/Images/5gdai_sc_3.png)"
   ]
  },
  {
   "cell_type": "markdown",
   "id": "5bf39f3b",
   "metadata": {
    "id": "CqVA5QFO6n4z",
    "papermill": {
     "duration": 0.007691,
     "end_time": "2024-11-19T09:26:54.930795",
     "exception": false,
     "start_time": "2024-11-19T09:26:54.923104",
     "status": "completed"
    },
    "tags": []
   },
   "source": [
    "### Explore available models\n",
    "\n",
    "You will be using the [`TunedModel.create`](https://ai.google.dev/api/tuning#method:-tunedmodels.create) API method to start the fine-tuning job and create your custom model. Find a model that supports it through the [`models.list`](https://ai.google.dev/api/models#method:-models.list) endpoint. You can also find more information about tuning models in [the model tuning docs](https://ai.google.dev/gemini-api/docs/model-tuning/tutorial?lang=python)."
   ]
  },
  {
   "cell_type": "code",
   "execution_count": 5,
   "id": "bfe2bd93",
   "metadata": {
    "execution": {
     "iopub.execute_input": "2024-11-19T09:26:54.948218Z",
     "iopub.status.busy": "2024-11-19T09:26:54.947822Z",
     "iopub.status.idle": "2024-11-19T09:26:55.191371Z",
     "shell.execute_reply": "2024-11-19T09:26:55.190065Z"
    },
    "id": "coEacWAB6o0G",
    "papermill": {
     "duration": 0.254986,
     "end_time": "2024-11-19T09:26:55.193635",
     "exception": false,
     "start_time": "2024-11-19T09:26:54.938649",
     "status": "completed"
    },
    "tags": []
   },
   "outputs": [
    {
     "name": "stdout",
     "output_type": "stream",
     "text": [
      "models/gemini-1.0-pro-001\n",
      "models/gemini-1.5-flash-001-tuning\n"
     ]
    }
   ],
   "source": [
    "for model in genai.list_models():\n",
    "    if \"createTunedModel\" in model.supported_generation_methods:\n",
    "        print(model.name)"
   ]
  },
  {
   "cell_type": "markdown",
   "id": "05fc35d5",
   "metadata": {
    "id": "peFm0w_0c1CO",
    "papermill": {
     "duration": 0.007899,
     "end_time": "2024-11-19T09:26:55.209792",
     "exception": false,
     "start_time": "2024-11-19T09:26:55.201893",
     "status": "completed"
    },
    "tags": []
   },
   "source": [
    "## Download the dataset\n",
    "\n",
    "In this activity, you will use the same newsgroups dataset that you used to train a classifier in Keras. In this example you will use a fine-tuned Gemini model to achieve the same goal.\n",
    "\n",
    "The [20 Newsgroups Text Dataset](https://scikit-learn.org/0.19/datasets/twenty_newsgroups.html) contains 18,000 newsgroups posts on 20 topics divided into training and test sets."
   ]
  },
  {
   "cell_type": "code",
   "execution_count": 6,
   "id": "fcca121f",
   "metadata": {
    "execution": {
     "iopub.execute_input": "2024-11-19T09:26:55.228371Z",
     "iopub.status.busy": "2024-11-19T09:26:55.227982Z",
     "iopub.status.idle": "2024-11-19T09:27:05.584217Z",
     "shell.execute_reply": "2024-11-19T09:27:05.582885Z"
    },
    "id": "bX_kpgnQ9b-Z",
    "papermill": {
     "duration": 10.368654,
     "end_time": "2024-11-19T09:27:05.586536",
     "exception": false,
     "start_time": "2024-11-19T09:26:55.217882",
     "status": "completed"
    },
    "tags": []
   },
   "outputs": [
    {
     "data": {
      "text/plain": [
       "['alt.atheism',\n",
       " 'comp.graphics',\n",
       " 'comp.os.ms-windows.misc',\n",
       " 'comp.sys.ibm.pc.hardware',\n",
       " 'comp.sys.mac.hardware',\n",
       " 'comp.windows.x',\n",
       " 'misc.forsale',\n",
       " 'rec.autos',\n",
       " 'rec.motorcycles',\n",
       " 'rec.sport.baseball',\n",
       " 'rec.sport.hockey',\n",
       " 'sci.crypt',\n",
       " 'sci.electronics',\n",
       " 'sci.med',\n",
       " 'sci.space',\n",
       " 'soc.religion.christian',\n",
       " 'talk.politics.guns',\n",
       " 'talk.politics.mideast',\n",
       " 'talk.politics.misc',\n",
       " 'talk.religion.misc']"
      ]
     },
     "execution_count": 6,
     "metadata": {},
     "output_type": "execute_result"
    }
   ],
   "source": [
    "from sklearn.datasets import fetch_20newsgroups\n",
    "\n",
    "newsgroups_train = fetch_20newsgroups(subset=\"train\")\n",
    "newsgroups_test = fetch_20newsgroups(subset=\"test\")\n",
    "\n",
    "# View list of class names for dataset\n",
    "newsgroups_train.target_names"
   ]
  },
  {
   "cell_type": "markdown",
   "id": "22b58ba9",
   "metadata": {
    "id": "ipafe6ptZFjt",
    "papermill": {
     "duration": 0.008138,
     "end_time": "2024-11-19T09:27:05.603090",
     "exception": false,
     "start_time": "2024-11-19T09:27:05.594952",
     "status": "completed"
    },
    "tags": []
   },
   "source": [
    "Here's what a single row looks like."
   ]
  },
  {
   "cell_type": "code",
   "execution_count": 7,
   "id": "33526d30",
   "metadata": {
    "execution": {
     "iopub.execute_input": "2024-11-19T09:27:05.621186Z",
     "iopub.status.busy": "2024-11-19T09:27:05.620750Z",
     "iopub.status.idle": "2024-11-19T09:27:05.626488Z",
     "shell.execute_reply": "2024-11-19T09:27:05.625385Z"
    },
    "id": "EtEXcdT39hCB",
    "papermill": {
     "duration": 0.017447,
     "end_time": "2024-11-19T09:27:05.628652",
     "exception": false,
     "start_time": "2024-11-19T09:27:05.611205",
     "status": "completed"
    },
    "tags": []
   },
   "outputs": [
    {
     "name": "stdout",
     "output_type": "stream",
     "text": [
      "From: lerxst@wam.umd.edu (where's my thing)\n",
      "Subject: WHAT car is this!?\n",
      "Nntp-Posting-Host: rac3.wam.umd.edu\n",
      "Organization: University of Maryland, College Park\n",
      "Lines: 15\n",
      "\n",
      " I was wondering if anyone out there could enlighten me on this car I saw\n",
      "the other day. It was a 2-door sports car, looked to be from the late 60s/\n",
      "early 70s. It was called a Bricklin. The doors were really small. In addition,\n",
      "the front bumper was separate from the rest of the body. This is \n",
      "all I know. If anyone can tellme a model name, engine specs, years\n",
      "of production, where this car is made, history, or whatever info you\n",
      "have on this funky looking car, please e-mail.\n",
      "\n",
      "Thanks,\n",
      "- IL\n",
      "   ---- brought to you by your neighborhood Lerxst ----\n",
      "\n",
      "\n",
      "\n",
      "\n",
      "\n"
     ]
    }
   ],
   "source": [
    "print(newsgroups_train.data[0])"
   ]
  },
  {
   "cell_type": "markdown",
   "id": "ec0676c7",
   "metadata": {
    "id": "03lDs1O4ZQ0-",
    "papermill": {
     "duration": 0.00816,
     "end_time": "2024-11-19T09:27:05.645145",
     "exception": false,
     "start_time": "2024-11-19T09:27:05.636985",
     "status": "completed"
    },
    "tags": []
   },
   "source": [
    "## Prepare the dataset\n",
    "\n",
    "You'll use the same pre-processing code you used for the custom model on day 2. This pre-processing removes personal information, which can be used to \"shortcut\" to known users of a forum, and formats the text to appear a bit more like regular text and less like a newsgroup post (e.g. by removing the mail headers). This normalisation allows the model to generalise to regular text and not over-depend on specific fields. If your input data is always going to be newsgroup posts, it may be helpful to leave this structure in place if they provide genuine signals."
   ]
  },
  {
   "cell_type": "code",
   "execution_count": 8,
   "id": "d2139a5b",
   "metadata": {
    "execution": {
     "iopub.execute_input": "2024-11-19T09:27:05.663785Z",
     "iopub.status.busy": "2024-11-19T09:27:05.662954Z",
     "iopub.status.idle": "2024-11-19T09:27:06.483735Z",
     "shell.execute_reply": "2024-11-19T09:27:06.482795Z"
    },
    "id": "IoNYTxpoZgB0",
    "papermill": {
     "duration": 0.832749,
     "end_time": "2024-11-19T09:27:06.486190",
     "exception": false,
     "start_time": "2024-11-19T09:27:05.653441",
     "status": "completed"
    },
    "tags": []
   },
   "outputs": [],
   "source": [
    "import email\n",
    "import re\n",
    "\n",
    "import pandas as pd\n",
    "\n",
    "\n",
    "def preprocess_newsgroup_row(data):\n",
    "    # Extract only the subject and body\n",
    "    msg = email.message_from_string(data)\n",
    "    text = f\"{msg['Subject']}\\n\\n{msg.get_payload()}\"\n",
    "    # Strip any remaining email addresses\n",
    "    text = re.sub(r\"[\\w\\.-]+@[\\w\\.-]+\", \"\", text)\n",
    "    # Truncate the text to fit within the input limits\n",
    "    text = text[:40000]\n",
    "\n",
    "    return text\n",
    "\n",
    "\n",
    "def preprocess_newsgroup_data(newsgroup_dataset):\n",
    "    # Put data points into dataframe\n",
    "    df = pd.DataFrame(\n",
    "        {\"Text\": newsgroup_dataset.data, \"Label\": newsgroup_dataset.target}\n",
    "    )\n",
    "    # Clean up the text\n",
    "    df[\"Text\"] = df[\"Text\"].apply(preprocess_newsgroup_row)\n",
    "    # Match label to target name index\n",
    "    df[\"Class Name\"] = df[\"Label\"].map(lambda l: newsgroup_dataset.target_names[l])\n",
    "\n",
    "    return df"
   ]
  },
  {
   "cell_type": "code",
   "execution_count": 9,
   "id": "2fd6cc9a",
   "metadata": {
    "execution": {
     "iopub.execute_input": "2024-11-19T09:27:06.504956Z",
     "iopub.status.busy": "2024-11-19T09:27:06.504326Z",
     "iopub.status.idle": "2024-11-19T09:27:10.173920Z",
     "shell.execute_reply": "2024-11-19T09:27:10.172999Z"
    },
    "id": "kvOsUSRWaW4g",
    "papermill": {
     "duration": 3.681476,
     "end_time": "2024-11-19T09:27:10.176127",
     "exception": false,
     "start_time": "2024-11-19T09:27:06.494651",
     "status": "completed"
    },
    "tags": []
   },
   "outputs": [
    {
     "data": {
      "text/html": [
       "<div>\n",
       "<style scoped>\n",
       "    .dataframe tbody tr th:only-of-type {\n",
       "        vertical-align: middle;\n",
       "    }\n",
       "\n",
       "    .dataframe tbody tr th {\n",
       "        vertical-align: top;\n",
       "    }\n",
       "\n",
       "    .dataframe thead th {\n",
       "        text-align: right;\n",
       "    }\n",
       "</style>\n",
       "<table border=\"1\" class=\"dataframe\">\n",
       "  <thead>\n",
       "    <tr style=\"text-align: right;\">\n",
       "      <th></th>\n",
       "      <th>Text</th>\n",
       "      <th>Label</th>\n",
       "      <th>Class Name</th>\n",
       "    </tr>\n",
       "  </thead>\n",
       "  <tbody>\n",
       "    <tr>\n",
       "      <th>0</th>\n",
       "      <td>WHAT car is this!?\\n\\n I was wondering if anyo...</td>\n",
       "      <td>7</td>\n",
       "      <td>rec.autos</td>\n",
       "    </tr>\n",
       "    <tr>\n",
       "      <th>1</th>\n",
       "      <td>SI Clock Poll - Final Call\\n\\nA fair number of...</td>\n",
       "      <td>4</td>\n",
       "      <td>comp.sys.mac.hardware</td>\n",
       "    </tr>\n",
       "    <tr>\n",
       "      <th>2</th>\n",
       "      <td>PB questions...\\n\\nwell folks, my mac plus fin...</td>\n",
       "      <td>4</td>\n",
       "      <td>comp.sys.mac.hardware</td>\n",
       "    </tr>\n",
       "    <tr>\n",
       "      <th>3</th>\n",
       "      <td>Re: Weitek P9000 ?\\n\\nRobert J.C. Kyanko () wr...</td>\n",
       "      <td>1</td>\n",
       "      <td>comp.graphics</td>\n",
       "    </tr>\n",
       "    <tr>\n",
       "      <th>4</th>\n",
       "      <td>Re: Shuttle Launch Question\\n\\nFrom article &lt;&gt;...</td>\n",
       "      <td>14</td>\n",
       "      <td>sci.space</td>\n",
       "    </tr>\n",
       "  </tbody>\n",
       "</table>\n",
       "</div>"
      ],
      "text/plain": [
       "                                                Text  Label  \\\n",
       "0  WHAT car is this!?\\n\\n I was wondering if anyo...      7   \n",
       "1  SI Clock Poll - Final Call\\n\\nA fair number of...      4   \n",
       "2  PB questions...\\n\\nwell folks, my mac plus fin...      4   \n",
       "3  Re: Weitek P9000 ?\\n\\nRobert J.C. Kyanko () wr...      1   \n",
       "4  Re: Shuttle Launch Question\\n\\nFrom article <>...     14   \n",
       "\n",
       "              Class Name  \n",
       "0              rec.autos  \n",
       "1  comp.sys.mac.hardware  \n",
       "2  comp.sys.mac.hardware  \n",
       "3          comp.graphics  \n",
       "4              sci.space  "
      ]
     },
     "execution_count": 9,
     "metadata": {},
     "output_type": "execute_result"
    }
   ],
   "source": [
    "# Apply preprocessing to training and test datasets\n",
    "df_train = preprocess_newsgroup_data(newsgroups_train)\n",
    "df_test = preprocess_newsgroup_data(newsgroups_test)\n",
    "\n",
    "df_train.head()"
   ]
  },
  {
   "cell_type": "markdown",
   "id": "308ba374",
   "metadata": {
    "id": "XSKcj5WtadaR",
    "papermill": {
     "duration": 0.0087,
     "end_time": "2024-11-19T09:27:10.194575",
     "exception": false,
     "start_time": "2024-11-19T09:27:10.185875",
     "status": "completed"
    },
    "tags": []
   },
   "source": [
    "Now sample the data. You will keep 50 rows for each category for training. Note that this is even fewer than the Keras example, as this technique (parameter-efficient fine-tuning, or PEFT) updates a relatively small number of parameters and does not require training a new model or updating the large model."
   ]
  },
  {
   "cell_type": "code",
   "execution_count": 10,
   "id": "88a8b3ff",
   "metadata": {
    "execution": {
     "iopub.execute_input": "2024-11-19T09:27:10.215712Z",
     "iopub.status.busy": "2024-11-19T09:27:10.215325Z",
     "iopub.status.idle": "2024-11-19T09:27:10.259115Z",
     "shell.execute_reply": "2024-11-19T09:27:10.258105Z"
    },
    "id": "0t9Xu6X5akkt",
    "papermill": {
     "duration": 0.056871,
     "end_time": "2024-11-19T09:27:10.261549",
     "exception": false,
     "start_time": "2024-11-19T09:27:10.204678",
     "status": "completed"
    },
    "tags": []
   },
   "outputs": [],
   "source": [
    "def sample_data(df, num_samples, classes_to_keep):\n",
    "    # Sample rows, selecting num_samples of each Label.\n",
    "    df = (\n",
    "        df.groupby(\"Label\")[df.columns]\n",
    "        .apply(lambda x: x.sample(num_samples))\n",
    "        .reset_index(drop=True)\n",
    "    )\n",
    "\n",
    "    df = df[df[\"Class Name\"].str.contains(classes_to_keep)]\n",
    "    df[\"Class Name\"] = df[\"Class Name\"].astype(\"category\")\n",
    "\n",
    "    return df\n",
    "\n",
    "\n",
    "TRAIN_NUM_SAMPLES = 50\n",
    "TEST_NUM_SAMPLES = 10\n",
    "# Keep rec.* and sci.*\n",
    "CLASSES_TO_KEEP = \"^rec|^sci\"\n",
    "\n",
    "df_train = sample_data(df_train, TRAIN_NUM_SAMPLES, CLASSES_TO_KEEP)\n",
    "df_test = sample_data(df_test, TEST_NUM_SAMPLES, CLASSES_TO_KEEP)"
   ]
  },
  {
   "cell_type": "markdown",
   "id": "778028ce",
   "metadata": {
    "papermill": {
     "duration": 0.008255,
     "end_time": "2024-11-19T09:27:10.278246",
     "exception": false,
     "start_time": "2024-11-19T09:27:10.269991",
     "status": "completed"
    },
    "tags": []
   },
   "source": [
    "## Evaluate baseline performance\n",
    "\n",
    "Before you start tuning a model, it's good practice to perform an evaluation on the available models to ensure you can measure how much the tuning helps.\n",
    "\n",
    "First identify a single sample row to use for visual inspection."
   ]
  },
  {
   "cell_type": "code",
   "execution_count": 11,
   "id": "7677b5ea",
   "metadata": {
    "execution": {
     "iopub.execute_input": "2024-11-19T09:27:10.297410Z",
     "iopub.status.busy": "2024-11-19T09:27:10.296574Z",
     "iopub.status.idle": "2024-11-19T09:27:10.303024Z",
     "shell.execute_reply": "2024-11-19T09:27:10.301977Z"
    },
    "papermill": {
     "duration": 0.018592,
     "end_time": "2024-11-19T09:27:10.305258",
     "exception": false,
     "start_time": "2024-11-19T09:27:10.286666",
     "status": "completed"
    },
    "tags": []
   },
   "outputs": [
    {
     "name": "stdout",
     "output_type": "stream",
     "text": [
      "Need info on 88-89 Bonneville\n",
      "\n",
      "\n",
      " I am a little confused on all of the models of the 88-89 bonnevilles.\n",
      "I have heard of the LE SE LSE SSE SSEI. Could someone tell me the\n",
      "differences are far as features or performance. I am also curious to\n",
      "know what the book value is for prefereably the 89 model. And how much\n",
      "less than book value can you usually get them for. In other words how\n",
      "much are they in demand this time of year. I have heard that the mid-spring\n",
      "early summer is the best time to buy.\n",
      "\n",
      "\t\t\tNeil Gandler\n",
      "\n",
      "---\n",
      "Label: rec.autos\n"
     ]
    }
   ],
   "source": [
    "sample_idx = 0\n",
    "sample_row = preprocess_newsgroup_row(newsgroups_test.data[sample_idx])\n",
    "sample_label = newsgroups_test.target_names[newsgroups_test.target[sample_idx]]\n",
    "\n",
    "print(sample_row)\n",
    "print('---')\n",
    "print('Label:', sample_label)"
   ]
  },
  {
   "cell_type": "markdown",
   "id": "62cd3ab8",
   "metadata": {
    "papermill": {
     "duration": 0.008376,
     "end_time": "2024-11-19T09:27:10.322350",
     "exception": false,
     "start_time": "2024-11-19T09:27:10.313974",
     "status": "completed"
    },
    "tags": []
   },
   "source": [
    "Passing the text directly in as a prompt does not yield the desired results. The model will attempt to respond to the message."
   ]
  },
  {
   "cell_type": "code",
   "execution_count": 12,
   "id": "a5a6608c",
   "metadata": {
    "execution": {
     "iopub.execute_input": "2024-11-19T09:27:10.340919Z",
     "iopub.status.busy": "2024-11-19T09:27:10.340520Z",
     "iopub.status.idle": "2024-11-19T09:27:13.776813Z",
     "shell.execute_reply": "2024-11-19T09:27:13.775686Z"
    },
    "papermill": {
     "duration": 3.448362,
     "end_time": "2024-11-19T09:27:13.779100",
     "exception": false,
     "start_time": "2024-11-19T09:27:10.330738",
     "status": "completed"
    },
    "tags": []
   },
   "outputs": [
    {
     "name": "stdout",
     "output_type": "stream",
     "text": [
      "You're right, the 1988-1989 Bonneville lineup can be confusing! Here's a breakdown of the models and their differences, along with some guidance on value:\n",
      "\n",
      "**Model Breakdown:**\n",
      "\n",
      "* **LE:**  The base model. Usually featured the 3.8L V6 engine, basic interior, and minimal features.\n",
      "* **SE:** The \"Special Edition\" offered some additional features, such as power accessories (windows, locks, mirrors), upgraded interior fabrics, and possibly a slightly more powerful engine option.\n",
      "* **LSE:**  The \"Luxury Special Edition\" added even more luxury features like leather seats, upgraded sound systems, and possibly a sunroof.\n",
      "* **SSE:** The \"Sport Special Edition\" was designed for performance. It often featured the larger 3.8L V6 with more horsepower, unique exterior styling, and a sportier suspension. \n",
      "* **SSEi:**  The \"Sport Special Edition, Injected\" took the SSE a step further with a fuel-injected 3.8L V6 engine, offering even better performance and fuel economy.\n",
      "\n",
      "**Value & Demand:**\n",
      "\n",
      "* **Book Value:** Unfortunately, giving a precise book value is difficult without knowing the specific model, condition, and mileage. Websites like Kelley Blue Book or Edmunds can provide you with an estimated value based on these factors.\n",
      "* **Negotiation:**  You can often negotiate a price below book value, especially for older vehicles.  \n",
      "* **Seasonal Demand:** You're right, early summer is generally a good time to buy, as dealerships often have incentives to clear out inventory before the new model year arrives. However, this depends on the local market and dealer's specific needs. \n",
      "* **Demand for 1989 Bonnevilles:**  Being older vehicles, they are not in very high demand. You might find more success finding a good deal if you focus on the SSE or SSEi models as they were more desirable when new.\n",
      "\n",
      "**Tips for Finding a Deal:**\n",
      "\n",
      "* **Research:** Compare prices online and at local dealerships.\n",
      "* **Inspect Thoroughly:**  Have a mechanic inspect any vehicle before buying. \n",
      "* **Be Patient:**  Don't rush into a purchase. Shop around and wait for the right deal.\n",
      "* **Negotiate:**  Be prepared to negotiate and walk away if you don't feel comfortable with the price.\n",
      "\n",
      "**Remember:**  The condition of the vehicle is more important than the model.  A well-maintained, low-mileage example will likely be worth more than a neglected high-mileage car, even if it's a more desirable model. \n",
      "\n"
     ]
    }
   ],
   "source": [
    "baseline_model = genai.GenerativeModel(\"gemini-1.5-flash-001\")\n",
    "response = baseline_model.generate_content(sample_row)\n",
    "print(response.text)"
   ]
  },
  {
   "cell_type": "markdown",
   "id": "85afbfa4",
   "metadata": {
    "papermill": {
     "duration": 0.008313,
     "end_time": "2024-11-19T09:27:13.796058",
     "exception": false,
     "start_time": "2024-11-19T09:27:13.787745",
     "status": "completed"
    },
    "tags": []
   },
   "source": [
    "You can use the prompt engineering techniques you have learned this week to induce the model to perform the desired task. Try some of your own ideas and see what is effective, or check out the following cells for different approaches. Note that they have different levels of effectiveness!"
   ]
  },
  {
   "cell_type": "code",
   "execution_count": 13,
   "id": "ca20f20f",
   "metadata": {
    "execution": {
     "iopub.execute_input": "2024-11-19T09:27:13.814830Z",
     "iopub.status.busy": "2024-11-19T09:27:13.814382Z",
     "iopub.status.idle": "2024-11-19T09:27:14.689259Z",
     "shell.execute_reply": "2024-11-19T09:27:14.688048Z"
    },
    "papermill": {
     "duration": 0.886885,
     "end_time": "2024-11-19T09:27:14.691457",
     "exception": false,
     "start_time": "2024-11-19T09:27:13.804572",
     "status": "completed"
    },
    "tags": []
   },
   "outputs": [
    {
     "name": "stdout",
     "output_type": "stream",
     "text": [
      "The message likely originates from the **rec.autos.pontiac** newsgroup. \n",
      "\n",
      "This is a logical conclusion due to the subject matter:\n",
      "\n",
      "* **Bonneville:**  A model produced by Pontiac.\n",
      "* **rec.autos.pontiac:**  A newsgroup dedicated to discussing Pontiac vehicles. \n",
      "\n",
      "The content of the message also strongly suggests it belongs to this group, as it focuses on specific Pontiac model variations and pricing inquiries. \n",
      "\n"
     ]
    }
   ],
   "source": [
    "# Ask the model directly in a zero-shot prompt.\n",
    "\n",
    "prompt = \"From what newsgroup does the following message originate?\"\n",
    "baseline_response = baseline_model.generate_content([prompt, sample_row])\n",
    "print(baseline_response.text)"
   ]
  },
  {
   "cell_type": "markdown",
   "id": "ba98c6a7",
   "metadata": {
    "papermill": {
     "duration": 0.008665,
     "end_time": "2024-11-19T09:27:14.708985",
     "exception": false,
     "start_time": "2024-11-19T09:27:14.700320",
     "status": "completed"
    },
    "tags": []
   },
   "source": [
    "That technique produces quite a verbose response. You could try and pick out the relevant text, or refine the prompt even further."
   ]
  },
  {
   "cell_type": "code",
   "execution_count": 14,
   "id": "e874ade1",
   "metadata": {
    "execution": {
     "iopub.execute_input": "2024-11-19T09:27:14.728346Z",
     "iopub.status.busy": "2024-11-19T09:27:14.727921Z",
     "iopub.status.idle": "2024-11-19T09:27:15.122311Z",
     "shell.execute_reply": "2024-11-19T09:27:15.121071Z"
    },
    "papermill": {
     "duration": 0.406795,
     "end_time": "2024-11-19T09:27:15.124617",
     "exception": false,
     "start_time": "2024-11-19T09:27:14.717822",
     "status": "completed"
    },
    "tags": []
   },
   "outputs": [
    {
     "name": "stdout",
     "output_type": "stream",
     "text": [
      "rec.autos.misc\n",
      "\n",
      "Incorrect.\n"
     ]
    }
   ],
   "source": [
    "from google.api_core import retry\n",
    "\n",
    "# You can use a system instruction to do more direct prompting, and get a\n",
    "# more succinct answer.\n",
    "\n",
    "system_instruct = \"\"\"\n",
    "You are a classification service. You will be passed input that represents\n",
    "a newsgroup post and you must respond with the newsgroup from which the post\n",
    "originates.\n",
    "\"\"\"\n",
    "\n",
    "instructed_model = genai.GenerativeModel(\"gemini-1.5-flash-001\",\n",
    "                                         system_instruction=system_instruct)\n",
    "\n",
    "retry_policy = {\"retry\": retry.Retry(predicate=retry.if_transient_error)}\n",
    "\n",
    "# If you want to evaluate your own technique, replace this function with your\n",
    "# model, prompt and other code and return the predicted answer.\n",
    "def predict_label(post: str) -> str:\n",
    "    response = instructed_model.generate_content(post, request_options=retry_policy)\n",
    "    rc = response.candidates[0]\n",
    "\n",
    "    # Any errors, filters, recitation, etc we can mark as a general error\n",
    "    if rc.finish_reason.name != \"STOP\":\n",
    "        return \"(error)\"\n",
    "    else:\n",
    "        # Clean up the response.\n",
    "        return response.text.strip()\n",
    "\n",
    "\n",
    "prediction = predict_label(sample_row)\n",
    "\n",
    "print(prediction)\n",
    "print()\n",
    "print(\"Correct!\" if prediction == sample_label else \"Incorrect.\")"
   ]
  },
  {
   "cell_type": "markdown",
   "id": "dd732a88",
   "metadata": {
    "papermill": {
     "duration": 0.008602,
     "end_time": "2024-11-19T09:27:15.142344",
     "exception": false,
     "start_time": "2024-11-19T09:27:15.133742",
     "status": "completed"
    },
    "tags": []
   },
   "source": [
    "Now run a short evaluation using the function defined above. The test set is further sampled to ensure the experiment runs smoothly on the API's free tier. In practice you would evaluate over the whole set."
   ]
  },
  {
   "cell_type": "code",
   "execution_count": 15,
   "id": "f41687fc",
   "metadata": {
    "execution": {
     "iopub.execute_input": "2024-11-19T09:27:15.162167Z",
     "iopub.status.busy": "2024-11-19T09:27:15.161344Z",
     "iopub.status.idle": "2024-11-19T09:28:19.350026Z",
     "shell.execute_reply": "2024-11-19T09:28:19.348849Z"
    },
    "papermill": {
     "duration": 64.201649,
     "end_time": "2024-11-19T09:28:19.352853",
     "exception": false,
     "start_time": "2024-11-19T09:27:15.151204",
     "status": "completed"
    },
    "tags": []
   },
   "outputs": [
    {
     "data": {
      "application/vnd.jupyter.widget-view+json": {
       "model_id": "71704ae18d3241dcac747d1c0a2cfff8",
       "version_major": 2,
       "version_minor": 0
      },
      "text/plain": [
       "Output()"
      ]
     },
     "metadata": {},
     "output_type": "display_data"
    },
    {
     "name": "stderr",
     "output_type": "stream",
     "text": [
      "/opt/conda/lib/python3.10/site-packages/tqdm/std.py:885: TqdmExperimentalWarning: rich is experimental/alpha\n",
      "  t = cls(total=total, **tqdm_kwargs)\n"
     ]
    },
    {
     "data": {
      "text/html": [
       "<pre style=\"white-space:pre;overflow-x:auto;line-height:normal;font-family:Menlo,'DejaVu Sans Mono',consolas,'Courier New',monospace\"></pre>\n"
      ],
      "text/plain": []
     },
     "metadata": {},
     "output_type": "display_data"
    },
    {
     "data": {
      "text/html": [
       "<pre style=\"white-space:pre;overflow-x:auto;line-height:normal;font-family:Menlo,'DejaVu Sans Mono',consolas,'Courier New',monospace\">\n",
       "</pre>\n"
      ],
      "text/plain": [
       "\n"
      ]
     },
     "metadata": {},
     "output_type": "display_data"
    },
    {
     "name": "stdout",
     "output_type": "stream",
     "text": [
      "Accuracy: 25.00%\n"
     ]
    }
   ],
   "source": [
    "from tqdm.rich import tqdm\n",
    "\n",
    "tqdm.pandas()\n",
    "\n",
    "\n",
    "# Further sample the test data to be mindful of the free-tier quota.\n",
    "df_baseline_eval = sample_data(df_test, 2, '.*')\n",
    "\n",
    "# Make predictions using the sampled data.\n",
    "df_baseline_eval['Prediction'] = df_baseline_eval['Text'].progress_apply(predict_label)\n",
    "\n",
    "# And calculate the accuracy.\n",
    "accuracy = (df_baseline_eval[\"Class Name\"] == df_baseline_eval[\"Prediction\"]).sum() / len(df_baseline_eval)\n",
    "print(f\"Accuracy: {accuracy:.2%}\")"
   ]
  },
  {
   "cell_type": "markdown",
   "id": "605a54bb",
   "metadata": {
    "papermill": {
     "duration": 0.012258,
     "end_time": "2024-11-19T09:28:19.379119",
     "exception": false,
     "start_time": "2024-11-19T09:28:19.366861",
     "status": "completed"
    },
    "tags": []
   },
   "source": [
    "Now take a look at the dataframe to compare the predictions with the labels."
   ]
  },
  {
   "cell_type": "code",
   "execution_count": 16,
   "id": "c14abf20",
   "metadata": {
    "execution": {
     "iopub.execute_input": "2024-11-19T09:28:21.226748Z",
     "iopub.status.busy": "2024-11-19T09:28:21.226401Z",
     "iopub.status.idle": "2024-11-19T09:28:21.240047Z",
     "shell.execute_reply": "2024-11-19T09:28:21.238687Z"
    },
    "papermill": {
     "duration": 1.849098,
     "end_time": "2024-11-19T09:28:21.242315",
     "exception": false,
     "start_time": "2024-11-19T09:28:19.393217",
     "status": "completed"
    },
    "tags": []
   },
   "outputs": [
    {
     "data": {
      "text/html": [
       "<div>\n",
       "<style scoped>\n",
       "    .dataframe tbody tr th:only-of-type {\n",
       "        vertical-align: middle;\n",
       "    }\n",
       "\n",
       "    .dataframe tbody tr th {\n",
       "        vertical-align: top;\n",
       "    }\n",
       "\n",
       "    .dataframe thead th {\n",
       "        text-align: right;\n",
       "    }\n",
       "</style>\n",
       "<table border=\"1\" class=\"dataframe\">\n",
       "  <thead>\n",
       "    <tr style=\"text-align: right;\">\n",
       "      <th></th>\n",
       "      <th>Text</th>\n",
       "      <th>Label</th>\n",
       "      <th>Class Name</th>\n",
       "      <th>Prediction</th>\n",
       "    </tr>\n",
       "  </thead>\n",
       "  <tbody>\n",
       "    <tr>\n",
       "      <th>0</th>\n",
       "      <td>Re: Questions about insurance companies (esp. ...</td>\n",
       "      <td>7</td>\n",
       "      <td>rec.autos</td>\n",
       "      <td>alt.insurance</td>\n",
       "    </tr>\n",
       "    <tr>\n",
       "      <th>1</th>\n",
       "      <td>Re: Opel owners?\\n\\n (Matthew MacIntyre at the...</td>\n",
       "      <td>7</td>\n",
       "      <td>rec.autos</td>\n",
       "      <td>(error)</td>\n",
       "    </tr>\n",
       "    <tr>\n",
       "      <th>2</th>\n",
       "      <td>Re: Ok, So I was a little hasty...\\n\\nIn &lt;&gt;  (...</td>\n",
       "      <td>8</td>\n",
       "      <td>rec.motorcycles</td>\n",
       "      <td>rec.autos.misc</td>\n",
       "    </tr>\n",
       "    <tr>\n",
       "      <th>3</th>\n",
       "      <td>Re: Maxima Chain wax\\n\\nIn article &lt;&gt;  (Chris ...</td>\n",
       "      <td>8</td>\n",
       "      <td>rec.motorcycles</td>\n",
       "      <td>rec.motorcycles</td>\n",
       "    </tr>\n",
       "    <tr>\n",
       "      <th>4</th>\n",
       "      <td>Re: Box score abbrev woes\\n\\nIn article &lt;&gt;  (j...</td>\n",
       "      <td>9</td>\n",
       "      <td>rec.sport.baseball</td>\n",
       "      <td>rec.sports.baseball.misc</td>\n",
       "    </tr>\n",
       "    <tr>\n",
       "      <th>5</th>\n",
       "      <td>RE: Game Length (was Re: Braves Update!!\\n\\nIn...</td>\n",
       "      <td>9</td>\n",
       "      <td>rec.sport.baseball</td>\n",
       "      <td>rec.sports.baseball</td>\n",
       "    </tr>\n",
       "    <tr>\n",
       "      <th>6</th>\n",
       "      <td>And you think ESPN shafted you?\\n\\nLike many o...</td>\n",
       "      <td>10</td>\n",
       "      <td>rec.sport.hockey</td>\n",
       "      <td>rec.sport.hockey</td>\n",
       "    </tr>\n",
       "    <tr>\n",
       "      <th>7</th>\n",
       "      <td>Re: LET'S GO BUFFALO!\\n\\nIn article &lt;&gt; Robbie ...</td>\n",
       "      <td>10</td>\n",
       "      <td>rec.sport.hockey</td>\n",
       "      <td>rec.sport.hockey</td>\n",
       "    </tr>\n",
       "    <tr>\n",
       "      <th>8</th>\n",
       "      <td>Re: Dorothy Denning opposes Clipper, Capstone ...</td>\n",
       "      <td>11</td>\n",
       "      <td>sci.crypt</td>\n",
       "      <td>(error)</td>\n",
       "    </tr>\n",
       "    <tr>\n",
       "      <th>9</th>\n",
       "      <td>Re: Overreacting (was Re: Once tapped, your co...</td>\n",
       "      <td>11</td>\n",
       "      <td>sci.crypt</td>\n",
       "      <td>talk.politics.guns</td>\n",
       "    </tr>\n",
       "    <tr>\n",
       "      <th>10</th>\n",
       "      <td>Switching PS questions\\n\\n\\n\\tGreetings. I've ...</td>\n",
       "      <td>12</td>\n",
       "      <td>sci.electronics</td>\n",
       "      <td>comp.electronics.design</td>\n",
       "    </tr>\n",
       "    <tr>\n",
       "      <th>11</th>\n",
       "      <td>Re: How to the disks copy protected.\\n\\n&gt;  (Er...</td>\n",
       "      <td>12</td>\n",
       "      <td>sci.electronics</td>\n",
       "      <td>comp.os.ms-dos.programmer</td>\n",
       "    </tr>\n",
       "    <tr>\n",
       "      <th>12</th>\n",
       "      <td>Re: Annual inguinal hernia repair\\n\\n&gt; \\n&gt; In ...</td>\n",
       "      <td>13</td>\n",
       "      <td>sci.med</td>\n",
       "      <td>alt.med.herbs</td>\n",
       "    </tr>\n",
       "    <tr>\n",
       "      <th>13</th>\n",
       "      <td>Re: Proventil Inhaler\\n\\nIn article &lt;&gt;  (Rick ...</td>\n",
       "      <td>13</td>\n",
       "      <td>sci.med</td>\n",
       "      <td>alt.support.asthma</td>\n",
       "    </tr>\n",
       "    <tr>\n",
       "      <th>14</th>\n",
       "      <td>Re: HST Servicing Mission Scheduled for 11 Day...</td>\n",
       "      <td>14</td>\n",
       "      <td>sci.space</td>\n",
       "      <td>sci.space</td>\n",
       "    </tr>\n",
       "    <tr>\n",
       "      <th>15</th>\n",
       "      <td>Re: Long Term Space Voyanges and Effect NEwsgr...</td>\n",
       "      <td>14</td>\n",
       "      <td>sci.space</td>\n",
       "      <td>sci.space.newsgroup</td>\n",
       "    </tr>\n",
       "  </tbody>\n",
       "</table>\n",
       "</div>"
      ],
      "text/plain": [
       "                                                 Text  Label  \\\n",
       "0   Re: Questions about insurance companies (esp. ...      7   \n",
       "1   Re: Opel owners?\\n\\n (Matthew MacIntyre at the...      7   \n",
       "2   Re: Ok, So I was a little hasty...\\n\\nIn <>  (...      8   \n",
       "3   Re: Maxima Chain wax\\n\\nIn article <>  (Chris ...      8   \n",
       "4   Re: Box score abbrev woes\\n\\nIn article <>  (j...      9   \n",
       "5   RE: Game Length (was Re: Braves Update!!\\n\\nIn...      9   \n",
       "6   And you think ESPN shafted you?\\n\\nLike many o...     10   \n",
       "7   Re: LET'S GO BUFFALO!\\n\\nIn article <> Robbie ...     10   \n",
       "8   Re: Dorothy Denning opposes Clipper, Capstone ...     11   \n",
       "9   Re: Overreacting (was Re: Once tapped, your co...     11   \n",
       "10  Switching PS questions\\n\\n\\n\\tGreetings. I've ...     12   \n",
       "11  Re: How to the disks copy protected.\\n\\n>  (Er...     12   \n",
       "12  Re: Annual inguinal hernia repair\\n\\n> \\n> In ...     13   \n",
       "13  Re: Proventil Inhaler\\n\\nIn article <>  (Rick ...     13   \n",
       "14  Re: HST Servicing Mission Scheduled for 11 Day...     14   \n",
       "15  Re: Long Term Space Voyanges and Effect NEwsgr...     14   \n",
       "\n",
       "            Class Name                 Prediction  \n",
       "0            rec.autos              alt.insurance  \n",
       "1            rec.autos                    (error)  \n",
       "2      rec.motorcycles             rec.autos.misc  \n",
       "3      rec.motorcycles            rec.motorcycles  \n",
       "4   rec.sport.baseball   rec.sports.baseball.misc  \n",
       "5   rec.sport.baseball        rec.sports.baseball  \n",
       "6     rec.sport.hockey           rec.sport.hockey  \n",
       "7     rec.sport.hockey           rec.sport.hockey  \n",
       "8            sci.crypt                    (error)  \n",
       "9            sci.crypt         talk.politics.guns  \n",
       "10     sci.electronics    comp.electronics.design  \n",
       "11     sci.electronics  comp.os.ms-dos.programmer  \n",
       "12             sci.med              alt.med.herbs  \n",
       "13             sci.med         alt.support.asthma  \n",
       "14           sci.space                  sci.space  \n",
       "15           sci.space        sci.space.newsgroup  "
      ]
     },
     "execution_count": 16,
     "metadata": {},
     "output_type": "execute_result"
    }
   ],
   "source": [
    "df_baseline_eval"
   ]
  },
  {
   "cell_type": "markdown",
   "id": "1b468a7c",
   "metadata": {
    "id": "Ok7ugrLzcghX",
    "papermill": {
     "duration": 0.009351,
     "end_time": "2024-11-19T09:28:21.262100",
     "exception": false,
     "start_time": "2024-11-19T09:28:21.252749",
     "status": "completed"
    },
    "tags": []
   },
   "source": [
    "## Tune a custom model\n",
    "\n",
    "In this example you'll use tuning to help create a model that requires no prompting or system instructions and outputs succinct text from the classes you provide in the training data.\n",
    "\n",
    "The data contains both input text (the processed posts) and output text (the category, or newsgroup), which you can use to start tuning a model.\n",
    "\n",
    "The Python SDK for tuning supports Pandas dataframes as input, so you don't need any custom data generators or pipelines. Just specify the input and the relevant columns as the `input_key` and `output_key`.\n",
    "\n",
    "When calling `create_tuned_model`, you can specify model tuning hyperparameters too:\n",
    " - `epoch_count`: defines how many times to loop through the data,\n",
    " - `batch_size`: defines how many rows to process in a single step, and\n",
    " - `learning_rate`: defines the scaling factor for updating model weights at each step.\n",
    "\n",
    "You can also choose to omit them and use the defaults. [Learn more](https://developers.google.com/machine-learning/crash-course/linear-regression/hyperparameters) about these parameters and how they work. For this example these parameters were selected by running some tuning jobs and selecting parameters that were both effective and quick."
   ]
  },
  {
   "cell_type": "code",
   "execution_count": 17,
   "id": "be23c031",
   "metadata": {
    "execution": {
     "iopub.execute_input": "2024-11-19T09:28:21.282919Z",
     "iopub.status.busy": "2024-11-19T09:28:21.282506Z",
     "iopub.status.idle": "2024-11-19T09:28:22.404435Z",
     "shell.execute_reply": "2024-11-19T09:28:22.403147Z"
    },
    "id": "pWOZlspfY8dV",
    "papermill": {
     "duration": 1.135005,
     "end_time": "2024-11-19T09:28:22.406738",
     "exception": false,
     "start_time": "2024-11-19T09:28:21.271733",
     "status": "completed"
    },
    "tags": []
   },
   "outputs": [
    {
     "name": "stdout",
     "output_type": "stream",
     "text": [
      "newsgroup-classifier-68599\n"
     ]
    }
   ],
   "source": [
    "from collections.abc import Iterable\n",
    "import random\n",
    "\n",
    "\n",
    "# Append a random number to the model ID so you can re-run with a higher chance\n",
    "# of creating a unique model ID.\n",
    "model_id = f\"newsgroup-classifier-{random.randint(10000, 99999)}\"\n",
    "\n",
    "# Upload the training data and queue the tuning job.\n",
    "tuning_op = genai.create_tuned_model(\n",
    "    \"models/gemini-1.5-flash-001-tuning\",\n",
    "    training_data=df_train,\n",
    "    input_key=\"Text\",  # the column to use as input\n",
    "    output_key=\"Class Name\",  # the column to use as output\n",
    "    id=model_id,\n",
    "    display_name=\"Newsgroup classification model\",\n",
    "    batch_size=16,\n",
    "    epoch_count=2,\n",
    ")\n",
    "\n",
    "print(model_id)"
   ]
  },
  {
   "cell_type": "markdown",
   "id": "34fd4ad8",
   "metadata": {
    "id": "NQ3YZ2MBubCY",
    "papermill": {
     "duration": 0.009471,
     "end_time": "2024-11-19T09:28:22.426302",
     "exception": false,
     "start_time": "2024-11-19T09:28:22.416831",
     "status": "completed"
    },
    "tags": []
   },
   "source": [
    "This has created a tuning job that will run in the background. To inspect the progress of the tuning job, run this cell to plot the current status and loss curve. Once the status reaches `ACTIVE`, tuning is complete and the model is ready to use.\n",
    "\n",
    "Tuning jobs are queued, so it may look like no training steps have been taken initially but it will progress. Tuning can take upwards of 20 minutes, depending on factors like your dataset size and how busy the tuning infrastrature is. Why not treat yourself to a nice cup of tea while you wait, or come and say \"Hi!\" to [yours truly](https://discord.com/users/132124213132787712) in the group [Discord](https://discord.com/invite/kaggle).\n",
    "\n",
    "It is safe to stop this cell at any point. It will not stop the tuning job."
   ]
  },
  {
   "cell_type": "code",
   "execution_count": 18,
   "id": "0d426dbc",
   "metadata": {
    "execution": {
     "iopub.execute_input": "2024-11-19T09:28:22.448090Z",
     "iopub.status.busy": "2024-11-19T09:28:22.447657Z",
     "iopub.status.idle": "2024-11-19T09:32:24.639067Z",
     "shell.execute_reply": "2024-11-19T09:32:24.637671Z"
    },
    "id": "c4ef5f13692d",
    "papermill": {
     "duration": 242.204974,
     "end_time": "2024-11-19T09:32:24.641358",
     "exception": false,
     "start_time": "2024-11-19T09:28:22.436384",
     "status": "completed"
    },
    "tags": []
   },
   "outputs": [
    {
     "name": "stdout",
     "output_type": "stream",
     "text": [
      "State.CREATING\n",
      "State.CREATING\n",
      "State.CREATING\n",
      "State.CREATING\n",
      "Done! The model is ACTIVE\n"
     ]
    },
    {
     "name": "stderr",
     "output_type": "stream",
     "text": [
      "/opt/conda/lib/python3.10/site-packages/seaborn/_oldcore.py:1119: FutureWarning: use_inf_as_na option is deprecated and will be removed in a future version. Convert inf values to NaN before operating instead.\n",
      "  with pd.option_context('mode.use_inf_as_na', True):\n",
      "/opt/conda/lib/python3.10/site-packages/seaborn/_oldcore.py:1119: FutureWarning: use_inf_as_na option is deprecated and will be removed in a future version. Convert inf values to NaN before operating instead.\n",
      "  with pd.option_context('mode.use_inf_as_na', True):\n"
     ]
    },
    {
     "data": {
      "text/plain": [
       "<Axes: xlabel='step', ylabel='mean_loss'>"
      ]
     },
     "execution_count": 18,
     "metadata": {},
     "output_type": "execute_result"
    },
    {
     "data": {
      "image/png": "[encoded data removed]",
      "text/plain": [
       "<Figure size 640x480 with 1 Axes>"
      ]
     },
     "metadata": {},
     "output_type": "display_data"
    }
   ],
   "source": [
    "import time\n",
    "import seaborn as sns\n",
    "\n",
    "\n",
    "while (tuned_model := genai.get_tuned_model(f\"tunedModels/{model_id}\")).state.name != 'ACTIVE':\n",
    "\n",
    "    print(tuned_model.state)\n",
    "    time.sleep(60)\n",
    "\n",
    "print(f\"Done! The model is {tuned_model.state.name}\")\n",
    "\n",
    "# Plot the loss curve.\n",
    "snapshots = pd.DataFrame(tuned_model.tuning_task.snapshots)\n",
    "sns.lineplot(data=snapshots, x=\"step\", y=\"mean_loss\")\n"
   ]
  },
  {
   "cell_type": "markdown",
   "id": "a87e3842",
   "metadata": {
    "id": "9-qiIdK4u80z",
    "papermill": {
     "duration": 0.010657,
     "end_time": "2024-11-19T09:32:24.662609",
     "exception": false,
     "start_time": "2024-11-19T09:32:24.651952",
     "status": "completed"
    },
    "tags": []
   },
   "source": [
    "Note that the `seaborn` module may output warnings containing `FutureWarning: use_inf_as_na option is deprecated`. These are expected and can be ignored."
   ]
  },
  {
   "cell_type": "markdown",
   "id": "5b5ae63c",
   "metadata": {
    "id": "9-qiIdK4u80z",
    "papermill": {
     "duration": 0.010536,
     "end_time": "2024-11-19T09:32:24.683687",
     "exception": false,
     "start_time": "2024-11-19T09:32:24.673151",
     "status": "completed"
    },
    "tags": []
   },
   "source": [
    "## Use the new model\n",
    "\n",
    "Now that you have a tuned model, try it out with custom data. You use the same API as a normal Gemini API interaction, but you specify your new model as the model name, using the `tunedModels/` prefix."
   ]
  },
  {
   "cell_type": "code",
   "execution_count": 19,
   "id": "580167bb",
   "metadata": {
    "execution": {
     "iopub.execute_input": "2024-11-19T09:32:24.707892Z",
     "iopub.status.busy": "2024-11-19T09:32:24.706686Z",
     "iopub.status.idle": "2024-11-19T09:32:33.576152Z",
     "shell.execute_reply": "2024-11-19T09:32:33.575006Z"
    },
    "id": "hyO2-MXLvM6a",
    "papermill": {
     "duration": 8.884171,
     "end_time": "2024-11-19T09:32:33.578396",
     "exception": false,
     "start_time": "2024-11-19T09:32:24.694225",
     "status": "completed"
    },
    "tags": []
   },
   "outputs": [
    {
     "name": "stdout",
     "output_type": "stream",
     "text": [
      "sci.space\n"
     ]
    }
   ],
   "source": [
    "your_model = genai.GenerativeModel(f\"tunedModels/{model_id}\")\n",
    "\n",
    "new_text = \"\"\"\n",
    "First-timer looking to get out of here.\n",
    "\n",
    "Hi, I'm writing about my interest in travelling to the outer limits!\n",
    "\n",
    "What kind of craft can I buy? What is easiest to access from this 3rd rock?\n",
    "\n",
    "Let me know how to do that please.\n",
    "\"\"\"\n",
    "\n",
    "response = your_model.generate_content(new_text)\n",
    "print(response.text)"
   ]
  },
  {
   "cell_type": "markdown",
   "id": "fdc6c8e1",
   "metadata": {
    "id": "xajLek9DySH_",
    "papermill": {
     "duration": 0.010408,
     "end_time": "2024-11-19T09:32:33.600096",
     "exception": false,
     "start_time": "2024-11-19T09:32:33.589688",
     "status": "completed"
    },
    "tags": []
   },
   "source": [
    "### Evaluation\n",
    "\n",
    "You can see that the model outputs labels that correspond to those in the training data, and without any system instructions or prompting, which is already a great improvement. Now see how well it performs on the test set.\n",
    "\n",
    "Note that there is no parallelism in this example; classifying the test sub-set will take a few minutes."
   ]
  },
  {
   "cell_type": "code",
   "execution_count": 20,
   "id": "51e55961",
   "metadata": {
    "execution": {
     "iopub.execute_input": "2024-11-19T09:32:33.623024Z",
     "iopub.status.busy": "2024-11-19T09:32:33.622534Z",
     "iopub.status.idle": "2024-11-19T09:33:48.388551Z",
     "shell.execute_reply": "2024-11-19T09:33:48.387497Z"
    },
    "id": "6T2Y3ZApvbMw",
    "papermill": {
     "duration": 74.781114,
     "end_time": "2024-11-19T09:33:48.391729",
     "exception": false,
     "start_time": "2024-11-19T09:32:33.610615",
     "status": "completed"
    },
    "tags": []
   },
   "outputs": [
    {
     "data": {
      "application/vnd.jupyter.widget-view+json": {
       "model_id": "ab97fad3a06744ae9c34e3bed3c1c638",
       "version_major": 2,
       "version_minor": 0
      },
      "text/plain": [
       "Output()"
      ]
     },
     "metadata": {},
     "output_type": "display_data"
    },
    {
     "name": "stderr",
     "output_type": "stream",
     "text": [
      "/opt/conda/lib/python3.10/site-packages/tqdm/std.py:885: TqdmExperimentalWarning: rich is experimental/alpha\n",
      "  t = cls(total=total, **tqdm_kwargs)\n"
     ]
    },
    {
     "data": {
      "text/html": [
       "<pre style=\"white-space:pre;overflow-x:auto;line-height:normal;font-family:Menlo,'DejaVu Sans Mono',consolas,'Courier New',monospace\"></pre>\n"
      ],
      "text/plain": []
     },
     "metadata": {},
     "output_type": "display_data"
    },
    {
     "data": {
      "text/html": [
       "<pre style=\"white-space:pre;overflow-x:auto;line-height:normal;font-family:Menlo,'DejaVu Sans Mono',consolas,'Courier New',monospace\">\n",
       "</pre>\n"
      ],
      "text/plain": [
       "\n"
      ]
     },
     "metadata": {},
     "output_type": "display_data"
    },
    {
     "name": "stdout",
     "output_type": "stream",
     "text": [
      "Accuracy: 90.62%\n"
     ]
    }
   ],
   "source": [
    "def classify_text(text: str) -> str:\n",
    "    \"\"\"Classify the provided text into a known newsgroup.\"\"\"\n",
    "    response = your_model.generate_content(text, request_options=retry_policy)\n",
    "    rc = response.candidates[0]\n",
    "\n",
    "    # Any errors, filters, recitation, etc we can mark as a general error\n",
    "    if rc.finish_reason.name != \"STOP\":\n",
    "        return \"(error)\"\n",
    "    else:\n",
    "        return rc.content.parts[0].text\n",
    "\n",
    "\n",
    "# The sampling here is just to minimise your quota usage. If you can, you should\n",
    "# evaluate the whole test set with `df_model_eval = df_test.copy()`.\n",
    "df_model_eval = sample_data(df_test, 4, '.*')\n",
    "\n",
    "\n",
    "df_model_eval[\"Prediction\"] = df_model_eval[\"Text\"].progress_apply(classify_text)\n",
    "\n",
    "accuracy = (df_model_eval[\"Class Name\"] == df_model_eval[\"Prediction\"]).sum() / len(df_model_eval)\n",
    "print(f\"Accuracy: {accuracy:.2%}\")"
   ]
  },
  {
   "cell_type": "markdown",
   "id": "ada18567",
   "metadata": {
    "papermill": {
     "duration": 0.014488,
     "end_time": "2024-11-19T09:33:48.421529",
     "exception": false,
     "start_time": "2024-11-19T09:33:48.407041",
     "status": "completed"
    },
    "tags": []
   },
   "source": [
    "## Compare token usage\n",
    "\n",
    "AI Studio and the Gemini API provide model tuning at no cost, however normal limits and charges apply for *use* of a tuned model.\n",
    "\n",
    "The size of the input prompt and other generation config like system instructions, as well as the number of generated output tokens, all contribute to the overall cost of a request."
   ]
  },
  {
   "cell_type": "code",
   "execution_count": 21,
   "id": "51dd7c75",
   "metadata": {
    "execution": {
     "iopub.execute_input": "2024-11-19T09:33:50.644115Z",
     "iopub.status.busy": "2024-11-19T09:33:50.643697Z",
     "iopub.status.idle": "2024-11-19T09:33:51.003818Z",
     "shell.execute_reply": "2024-11-19T09:33:51.002636Z"
    },
    "papermill": {
     "duration": 2.569601,
     "end_time": "2024-11-19T09:33:51.006044",
     "exception": false,
     "start_time": "2024-11-19T09:33:48.436443",
     "status": "completed"
    },
    "tags": []
   },
   "outputs": [
    {
     "name": "stdout",
     "output_type": "stream",
     "text": [
      "System instructed baseline model: 171 (input)\n",
      "Tuned model: 135 (input)\n",
      "Token savings: 26.67%\n"
     ]
    }
   ],
   "source": [
    "# Calculate the *input* cost of the baseline model with system instructions.\n",
    "sysint_tokens = instructed_model.count_tokens(sample_row).total_tokens\n",
    "print(f'System instructed baseline model: {sysint_tokens} (input)')\n",
    "\n",
    "# Calculate the input cost of the tuned model.\n",
    "tuned_tokens = your_model.count_tokens(sample_row).total_tokens\n",
    "print(f'Tuned model: {tuned_tokens} (input)')\n",
    "\n",
    "savings = (sysint_tokens - tuned_tokens) / tuned_tokens\n",
    "print(f'Token savings: {savings:.2%}')  # Note that this is only n=1."
   ]
  },
  {
   "cell_type": "markdown",
   "id": "bf1e6eb0",
   "metadata": {
    "papermill": {
     "duration": 0.011555,
     "end_time": "2024-11-19T09:33:51.029294",
     "exception": false,
     "start_time": "2024-11-19T09:33:51.017739",
     "status": "completed"
    },
    "tags": []
   },
   "source": [
    "The earlier verbose model also produced more output tokens than needed for this task."
   ]
  },
  {
   "cell_type": "code",
   "execution_count": 22,
   "id": "ce9c63ff",
   "metadata": {
    "execution": {
     "iopub.execute_input": "2024-11-19T09:33:51.054926Z",
     "iopub.status.busy": "2024-11-19T09:33:51.054381Z",
     "iopub.status.idle": "2024-11-19T09:33:51.986116Z",
     "shell.execute_reply": "2024-11-19T09:33:51.984834Z"
    },
    "papermill": {
     "duration": 0.947678,
     "end_time": "2024-11-19T09:33:51.988262",
     "exception": false,
     "start_time": "2024-11-19T09:33:51.040584",
     "status": "completed"
    },
    "tags": []
   },
   "outputs": [
    {
     "name": "stdout",
     "output_type": "stream",
     "text": [
      "Baseline (verbose) output tokens: 91\n",
      "Tuned output tokens: 4\n"
     ]
    }
   ],
   "source": [
    "baseline_token_output = baseline_response.usage_metadata.candidates_token_count\n",
    "print('Baseline (verbose) output tokens:', baseline_token_output)\n",
    "\n",
    "tuned_model_output = your_model.generate_content(sample_row)\n",
    "tuned_tokens_output = tuned_model_output.usage_metadata.candidates_token_count\n",
    "print('Tuned output tokens:', tuned_tokens_output)"
   ]
  },
  {
   "cell_type": "markdown",
   "id": "75fbc00e",
   "metadata": {
    "id": "6c1204a5d0ab",
    "papermill": {
     "duration": 0.010679,
     "end_time": "2024-11-19T09:33:52.010070",
     "exception": false,
     "start_time": "2024-11-19T09:33:51.999391",
     "status": "completed"
    },
    "tags": []
   },
   "source": [
    "## Next steps\n",
    "\n",
    "Now that you have tuned a classification model, try some other tasks, like tuning a model to respond with a specific tone or style using hand-written examples (or even generated examples!). Kaggle hosts [a number of datasets](https://www.kaggle.com/datasets) you can try out.\n",
    "\n",
    "Learn about [when supervised fine-tuning is most effective](https://cloud.google.com/blog/products/ai-machine-learning/supervised-fine-tuning-for-gemini-llm).\n",
    "\n",
    "And check out the [fine-tuning tutorial](https://ai.google.dev/gemini-api/docs/model-tuning/tutorial?hl=en&lang=python) for another example that shows a tuned model extending beyond the training data to new, unseen inputs."
   ]
  }
 ],
 "metadata": {
  "colab": {
   "name": "day-4-fine-tuning-a-custom-model.ipynb",
   "toc_visible": true
  },
  "kaggle": {
   "accelerator": "none",
   "dataSources": [],
   "dockerImageVersionId": 30786,
   "isGpuEnabled": false,
   "isInternetEnabled": true,
   "language": "python",
   "sourceType": "notebook"
  },
  "kernelspec": {
   "display_name": "Python 3",
   "language": "python",
   "name": "python3"
  },
  "language_info": {
   "codemirror_mode": {
    "name": "ipython",
    "version": 3
   },
   "file_extension": ".py",
   "mimetype": "text/x-python",
   "name": "python",
   "nbconvert_exporter": "python",
   "pygments_lexer": "ipython3",
   "version": "3.10.14"
  },
  "papermill": {
   "default_parameters": {},
   "duration": 448.238319,
   "end_time": "2024-11-19T09:33:52.842847",
   "environment_variables": {},
   "exception": null,
   "input_path": "__notebook__.ipynb",
   "output_path": "__notebook__.ipynb",
   "parameters": {},
   "start_time": "2024-11-19T09:26:24.604528",
   "version": "2.6.0"
  },
  "widgets": {
   "application/vnd.jupyter.widget-state+json": {
    "state": {
     "1e3ca03b5c42406c82333cb951caaf48": {
      "model_module": "@jupyter-widgets/base",
      "model_module_version": "1.2.0",
      "model_name": "LayoutModel",
      "state": {
       "_model_module": "@jupyter-widgets/base",
       "_model_module_version": "1.2.0",
       "_model_name": "LayoutModel",
       "_view_count": null,
       "_view_module": "@jupyter-widgets/base",
       "_view_module_version": "1.2.0",
       "_view_name": "LayoutView",
       "align_content": null,
       "align_items": null,
       "align_self": null,
       "border": null,
       "bottom": null,
       "display": null,
       "flex": null,
       "flex_flow": null,
       "grid_area": null,
       "grid_auto_columns": null,
       "grid_auto_flow": null,
       "grid_auto_rows": null,
       "grid_column": null,
       "grid_gap": null,
       "grid_row": null,
       "grid_template_areas": null,
       "grid_template_columns": null,
       "grid_template_rows": null,
       "height": null,
       "justify_content": null,
       "justify_items": null,
       "left": null,
       "margin": null,
       "max_height": null,
       "max_width": null,
       "min_height": null,
       "min_width": null,
       "object_fit": null,
       "object_position": null,
       "order": null,
       "overflow": null,
       "overflow_x": null,
       "overflow_y": null,
       "padding": null,
       "right": null,
       "top": null,
       "visibility": null,
       "width": null
      }
     },
     "71704ae18d3241dcac747d1c0a2cfff8": {
      "model_module": "@jupyter-widgets/output",
      "model_module_version": "1.0.0",
      "model_name": "OutputModel",
      "state": {
       "_dom_classes": [],
       "_model_module": "@jupyter-widgets/output",
       "_model_module_version": "1.0.0",
       "_model_name": "OutputModel",
       "_view_count": null,
       "_view_module": "@jupyter-widgets/output",
       "_view_module_version": "1.0.0",
       "_view_name": "OutputView",
       "layout": "IPY_MODEL_1e3ca03b5c42406c82333cb951caaf48",
       "msg_id": "",
       "outputs": [
        {
         "data": {
          "text/html": "<pre style=\"white-space:pre;overflow-x:auto;line-height:normal;font-family:Menlo,'DejaVu Sans Mono',consolas,'Courier New',monospace\"><span style=\"color: #800080; text-decoration-color: #800080\"> 100%</span> <span style=\"color: #729c1f; text-decoration-color: #729c1f\">━━━━━━━━━━━━━━━━━━━━━━━━━━━━━━━━━━━━━━━━━━━━━━━━━━━━━━━━━━━━━━━━━━━━━━━</span> <span style=\"color: #008000; text-decoration-color: #008000\">16/16 </span> [ <span style=\"color: #808000; text-decoration-color: #808000\">0:00:12</span> &lt; <span style=\"color: #008080; text-decoration-color: #008080\">0:00:00</span> , <span style=\"color: #800000; text-decoration-color: #800000\">1 it/s</span> ]\n</pre>\n",
          "text/plain": "\u001b[35m 100%\u001b[0m \u001b[38;2;114;156;31m━━━━━━━━━━━━━━━━━━━━━━━━━━━━━━━━━━━━━━━━━━━━━━━━━━━━━━━━━━━━━━━━━━━━━━━\u001b[0m \u001b[32m16/16 \u001b[0m [ \u001b[33m0:00:12\u001b[0m < \u001b[36m0:00:00\u001b[0m , \u001b[31m1 it/s\u001b[0m ]\n"
         },
         "metadata": {},
         "output_type": "display_data"
        }
       ]
      }
     },
     "ab97fad3a06744ae9c34e3bed3c1c638": {
      "model_module": "@jupyter-widgets/output",
      "model_module_version": "1.0.0",
      "model_name": "OutputModel",
      "state": {
       "_dom_classes": [],
       "_model_module": "@jupyter-widgets/output",
       "_model_module_version": "1.0.0",
       "_model_name": "OutputModel",
       "_view_count": null,
       "_view_module": "@jupyter-widgets/output",
       "_view_module_version": "1.0.0",
       "_view_name": "OutputView",
       "layout": "IPY_MODEL_c013b683ceab48188429d2e6d603c289",
       "msg_id": "",
       "outputs": [
        {
         "data": {
          "text/html": "<pre style=\"white-space:pre;overflow-x:auto;line-height:normal;font-family:Menlo,'DejaVu Sans Mono',consolas,'Courier New',monospace\"><span style=\"color: #800080; text-decoration-color: #800080\"> 100%</span> <span style=\"color: #729c1f; text-decoration-color: #729c1f\">━━━━━━━━━━━━━━━━━━━━━━━━━━━━━━━━━━━━━━━━━━━━━━━━━━━━━━━━━━━━━━━━━━━━━━━</span> <span style=\"color: #008000; text-decoration-color: #008000\">32/32 </span> [ <span style=\"color: #808000; text-decoration-color: #808000\">0:01:13</span> &lt; <span style=\"color: #008080; text-decoration-color: #008080\">0:00:00</span> , <span style=\"color: #800000; text-decoration-color: #800000\">1 it/s</span> ]\n</pre>\n",
          "text/plain": "\u001b[35m 100%\u001b[0m \u001b[38;2;114;156;31m━━━━━━━━━━━━━━━━━━━━━━━━━━━━━━━━━━━━━━━━━━━━━━━━━━━━━━━━━━━━━━━━━━━━━━━\u001b[0m \u001b[32m32/32 \u001b[0m [ \u001b[33m0:01:13\u001b[0m < \u001b[36m0:00:00\u001b[0m , \u001b[31m1 it/s\u001b[0m ]\n"
         },
         "metadata": {},
         "output_type": "display_data"
        }
       ]
      }
     },
     "c013b683ceab48188429d2e6d603c289": {
      "model_module": "@jupyter-widgets/base",
      "model_module_version": "1.2.0",
      "model_name": "LayoutModel",
      "state": {
       "_model_module": "@jupyter-widgets/base",
       "_model_module_version": "1.2.0",
       "_model_name": "LayoutModel",
       "_view_count": null,
       "_view_module": "@jupyter-widgets/base",
       "_view_module_version": "1.2.0",
       "_view_name": "LayoutView",
       "align_content": null,
       "align_items": null,
       "align_self": null,
       "border": null,
       "bottom": null,
       "display": null,
       "flex": null,
       "flex_flow": null,
       "grid_area": null,
       "grid_auto_columns": null,
       "grid_auto_flow": null,
       "grid_auto_rows": null,
       "grid_column": null,
       "grid_gap": null,
       "grid_row": null,
       "grid_template_areas": null,
       "grid_template_columns": null,
       "grid_template_rows": null,
       "height": null,
       "justify_content": null,
       "justify_items": null,
       "left": null,
       "margin": null,
       "max_height": null,
       "max_width": null,
       "min_height": null,
       "min_width": null,
       "object_fit": null,
       "object_position": null,
       "order": null,
       "overflow": null,
       "overflow_x": null,
       "overflow_y": null,
       "padding": null,
       "right": null,
       "top": null,
       "visibility": null,
       "width": null
      }
     }
    },
    "version_major": 2,
    "version_minor": 0
   }
  }
 },
 "nbformat": 4,
 "nbformat_minor": 5
}
